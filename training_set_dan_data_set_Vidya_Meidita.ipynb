{
  "nbformat": 4,
  "nbformat_minor": 0,
  "metadata": {
    "colab": {
      "provenance": [],
      "toc_visible": true,
      "authorship_tag": "ABX9TyOWvI7j33GxI3NWqRLTjXbi",
      "include_colab_link": true
    },
    "kernelspec": {
      "name": "python3",
      "display_name": "Python 3"
    },
    "language_info": {
      "name": "python"
    }
  },
  "cells": [
    {
      "cell_type": "markdown",
      "metadata": {
        "id": "view-in-github",
        "colab_type": "text"
      },
      "source": [
        "<a href=\"https://colab.research.google.com/github/vidyameidita/crudVidya/blob/main/training_set_dan_data_set_Vidya_Meidita.ipynb\" target=\"_parent\"><img src=\"https://colab.research.google.com/assets/colab-badge.svg\" alt=\"Open In Colab\"/></a>"
      ]
    },
    {
      "cell_type": "code",
      "execution_count": null,
      "metadata": {
        "colab": {
          "base_uri": "https://localhost:8080/"
        },
        "id": "XG2jrmnkEtIR",
        "outputId": "b529dfa7-5b78-4877-d7f3-5a6e48bff333"
      },
      "outputs": [
        {
          "output_type": "stream",
          "name": "stdout",
          "text": [
            "random_state ditentukan\n",
            "[8, 1, 5]\n",
            "random_state tidak ditentukan\n",
            "[0, 4, 2]\n",
            "[0, 3, 2]\n",
            "[2, 0, 9]\n",
            "[8, 1, 5]\n",
            "random_state tidak ditentukan\n",
            "[7, 0, 3]\n",
            "[3, 8, 5]\n",
            "[5, 2, 6]\n",
            "[8, 1, 5]\n",
            "random_state tidak ditentukan\n",
            "[4, 6, 9]\n",
            "[0, 3, 8]\n",
            "[1, 2, 5]\n"
          ]
        }
      ],
      "source": [
        "from sklearn.model_selection import train_test_split\n",
        "\n",
        "X_data = range(10)\n",
        "y_data = range(10)\n",
        "print(\"random_state ditentukan\")\n",
        "for i in range(3):\n",
        "  X_train, X_test, y_train, y_test =train_test_split(X_data, y_data, test_size = 0.3, random_state = 42)\n",
        "  print(y_test)\n",
        "\n",
        "  print(\"random_state tidak ditentukan\")\n",
        "  for i in range (3):\n",
        "    X_train, X_test, y_train, y_test = train_test_split(X_data, y_data, test_size = 0.3, random_state = None)\n",
        "    print(y_test)"
      ]
    },
    {
      "cell_type": "code",
      "source": [
        "import sklearn\n",
        "from sklearn import datasets"
      ],
      "metadata": {
        "id": "h4fKpV2kMx3M"
      },
      "execution_count": null,
      "outputs": []
    },
    {
      "cell_type": "code",
      "source": [
        "iris = datasets.load_iris()"
      ],
      "metadata": {
        "id": "701KYupsNJtk"
      },
      "execution_count": null,
      "outputs": []
    },
    {
      "cell_type": "code",
      "source": [
        "x=iris.data\n",
        "y=iris.target"
      ],
      "metadata": {
        "id": "fdkDLWFfNPNS"
      },
      "execution_count": null,
      "outputs": []
    },
    {
      "cell_type": "code",
      "source": [
        "from sklearn.model_selection import train_test_split\n",
        "\n",
        "x_train, x_test, y_train, y_test = train_test_split(x,y, test_size=0.2)"
      ],
      "metadata": {
        "id": "e_c98Qe_NUp1"
      },
      "execution_count": null,
      "outputs": []
    },
    {
      "cell_type": "code",
      "source": [
        "len(x_test)"
      ],
      "metadata": {
        "colab": {
          "base_uri": "https://localhost:8080/"
        },
        "id": "ZbdIjKiANvoH",
        "outputId": "ba3d8303-a7c1-4b06-bd0e-fe431a561497"
      },
      "execution_count": null,
      "outputs": [
        {
          "output_type": "execute_result",
          "data": {
            "text/plain": [
              "30"
            ]
          },
          "metadata": {},
          "execution_count": 6
        }
      ]
    }
  ]
}